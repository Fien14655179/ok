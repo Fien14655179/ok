{
 "cells": [
  {
   "cell_type": "markdown",
   "id": "a1164b7d",
   "metadata": {},
   "source": [
    "Perspectief 1: Een sociaal vangnet vergroot het algemene geluk van een land\n"
   ]
  },
  {
   "cell_type": "code",
   "execution_count": 1,
   "id": "326669e9",
   "metadata": {},
   "outputs": [
    {
     "ename": "NameError",
     "evalue": "name 'filtered_corr_df' is not defined",
     "output_type": "error",
     "traceback": [
      "\u001b[1;31m---------------------------------------------------------------------------\u001b[0m",
      "\u001b[1;31mNameError\u001b[0m                                 Traceback (most recent call last)",
      "Cell \u001b[1;32mIn[1], line 8\u001b[0m\n\u001b[0;32m      3\u001b[0m pio\u001b[38;5;241m.\u001b[39mrenderers\u001b[38;5;241m.\u001b[39mdefault \u001b[38;5;241m=\u001b[39m \u001b[38;5;124m\"\u001b[39m\u001b[38;5;124mnotebook\u001b[39m\u001b[38;5;124m\"\u001b[39m  \u001b[38;5;66;03m# Of \"iframe\" als \"notebook\" niet werkt\u001b[39;00m\n\u001b[0;32m      6\u001b[0m \u001b[38;5;66;03m# Interactieve staafdiagram van de gefilterde variabelen\u001b[39;00m\n\u001b[0;32m      7\u001b[0m fig \u001b[38;5;241m=\u001b[39m px\u001b[38;5;241m.\u001b[39mbar(\n\u001b[1;32m----> 8\u001b[0m     \u001b[43mfiltered_corr_df\u001b[49m,\n\u001b[0;32m      9\u001b[0m     x\u001b[38;5;241m=\u001b[39m\u001b[38;5;124m\"\u001b[39m\u001b[38;5;124mPearson r\u001b[39m\u001b[38;5;124m\"\u001b[39m,\n\u001b[0;32m     10\u001b[0m     y\u001b[38;5;241m=\u001b[39m\u001b[38;5;124m\"\u001b[39m\u001b[38;5;124mNaam\u001b[39m\u001b[38;5;124m\"\u001b[39m,\n\u001b[0;32m     11\u001b[0m     orientation\u001b[38;5;241m=\u001b[39m\u001b[38;5;124m\"\u001b[39m\u001b[38;5;124mh\u001b[39m\u001b[38;5;124m\"\u001b[39m,\n\u001b[0;32m     12\u001b[0m     color\u001b[38;5;241m=\u001b[39m\u001b[38;5;124m\"\u001b[39m\u001b[38;5;124mPearson r\u001b[39m\u001b[38;5;124m\"\u001b[39m,\n\u001b[0;32m     13\u001b[0m     color_continuous_scale\u001b[38;5;241m=\u001b[39m\u001b[38;5;124m\"\u001b[39m\u001b[38;5;124mRdBu\u001b[39m\u001b[38;5;124m\"\u001b[39m,\n\u001b[0;32m     14\u001b[0m     range_color\u001b[38;5;241m=\u001b[39m[\u001b[38;5;241m-\u001b[39m\u001b[38;5;241m1\u001b[39m, \u001b[38;5;241m1\u001b[39m],\n\u001b[0;32m     15\u001b[0m     labels\u001b[38;5;241m=\u001b[39m{\u001b[38;5;124m\"\u001b[39m\u001b[38;5;124mPearson r\u001b[39m\u001b[38;5;124m\"\u001b[39m: \u001b[38;5;124m\"\u001b[39m\u001b[38;5;124mCorrelatie met inkomensongelijkheid\u001b[39m\u001b[38;5;124m\"\u001b[39m, \u001b[38;5;124m\"\u001b[39m\u001b[38;5;124mNaam\u001b[39m\u001b[38;5;124m\"\u001b[39m: \u001b[38;5;124m\"\u001b[39m\u001b[38;5;124mSociaal vangnet variabele\u001b[39m\u001b[38;5;124m\"\u001b[39m},\n\u001b[0;32m     16\u001b[0m     hover_data\u001b[38;5;241m=\u001b[39m{\u001b[38;5;124m\"\u001b[39m\u001b[38;5;124mPearson r\u001b[39m\u001b[38;5;124m\"\u001b[39m: \u001b[38;5;124m\"\u001b[39m\u001b[38;5;124m:.2f\u001b[39m\u001b[38;5;124m\"\u001b[39m}\n\u001b[0;32m     17\u001b[0m )\n\u001b[0;32m     19\u001b[0m fig\u001b[38;5;241m.\u001b[39mupdate_layout(\n\u001b[0;32m     20\u001b[0m     title\u001b[38;5;241m=\u001b[39m\u001b[38;5;124m\"\u001b[39m\u001b[38;5;124mCorrelaties sociaal vangnet × inkomensongelijkheid (> 0.3 of < -0.3)\u001b[39m\u001b[38;5;124m\"\u001b[39m,\n\u001b[0;32m     21\u001b[0m     xaxis_title\u001b[38;5;241m=\u001b[39m\u001b[38;5;124m\"\u001b[39m\u001b[38;5;124mPearson correlatiecoëfficiënt\u001b[39m\u001b[38;5;124m\"\u001b[39m,\n\u001b[1;32m   (...)\u001b[0m\n\u001b[0;32m     25\u001b[0m     bargap\u001b[38;5;241m=\u001b[39m\u001b[38;5;241m0.2\u001b[39m\n\u001b[0;32m     26\u001b[0m )\n\u001b[0;32m     28\u001b[0m fig\u001b[38;5;241m.\u001b[39mshow()\n",
      "\u001b[1;31mNameError\u001b[0m: name 'filtered_corr_df' is not defined"
     ]
    }
   ],
   "source": [
    "import plotly.express as px\n",
    "import plotly.io as pio\n",
    "pio.renderers.default = \"notebook\"  # Of \"iframe\" als \"notebook\" niet werkt\n",
    "\n",
    "\n",
    "# Interactieve staafdiagram van de gefilterde variabelen\n",
    "fig = px.bar(\n",
    "    filtered_corr_df,\n",
    "    x=\"Pearson r\",\n",
    "    y=\"Naam\",\n",
    "    orientation=\"h\",\n",
    "    color=\"Pearson r\",\n",
    "    color_continuous_scale=\"RdBu\",\n",
    "    range_color=[-1, 1],\n",
    "    labels={\"Pearson r\": \"Correlatie met inkomensongelijkheid\", \"Naam\": \"Sociaal vangnet variabele\"},\n",
    "    hover_data={\"Pearson r\": \":.2f\"}\n",
    ")\n",
    "\n",
    "fig.update_layout(\n",
    "    title=\"Correlaties sociaal vangnet × inkomensongelijkheid (> 0.3 of < -0.3)\",\n",
    "    xaxis_title=\"Pearson correlatiecoëfficiënt\",\n",
    "    yaxis_title=\"\",\n",
    "    coloraxis_showscale=True,\n",
    "    plot_bgcolor=\"white\",\n",
    "    bargap=0.2\n",
    ")\n",
    "\n",
    "fig.show()\n"
   ]
  },
  {
   "cell_type": "markdown",
   "id": "665015c9",
   "metadata": {},
   "source": [
    "Argumentatieve tekst bij de grafiek:\n",
    "\"Als we de discussie over ongelijkheid serieus nemen, moeten we stoppen met het idee dat álle sociale uitgaven automatisch leiden tot minder inkomensongelijkheid. Dat blijkt simpelweg niet uit de data.\n",
    "\n",
    "De interactieve grafiek hiernaast laat dit glashelder zien. We hebben onderzocht welke vormen van sociale uitgaven in de praktijk daadwerkelijk samenhangen met minder ongelijkheid, gemeten via de postfiscale Gini-coëfficiënt. En wat blijkt? Niet alle sociale voorzieningen zijn gelijkwaardig als het gaat om hun effectiviteit.\n",
    "\n",
    "We tonen hier alleen de variabelen die een duidelijke correlatie laten zien, sterker dan +0.3 of zwakker dan -0.3. Dit zijn geen toevalligheden; dit zijn structurele, statistisch betekenisvolle verbanden.\n",
    "\n",
    "Wat direct opvalt: uitgaven aan zaken als gezinsbeleid, ouderdomsvoorzieningen en actief arbeidsmarktbeleid vertonen een negatieve correlatie met inkomensongelijkheid. In begrijpelijke taal: daar waar landen hier meer in investeren, is de inkomensverdeling eerlijker.\n",
    "\n",
    "Maar let op — sommige uitgaven vertonen juist een positieve correlatie. Dat betekent dat in landen waar bijvoorbeeld bepaalde vormen van sociale uitgaven hoger liggen, de ongelijkheid óók hoger is. Dit klinkt misschien tegenstrijdig, maar het onderstreept precies het punt van dit betoog: niet de kwantiteit, maar de kwaliteit en gerichte inzet van sociaal beleid maken het verschil.\n",
    "\n",
    "Kortom, als we blind blijven inzetten op 'meer sociale uitgaven' zonder kritisch te kijken naar de samenstelling en het doel van die uitgaven, missen we de kern. Dit vraagt om slim, doelgericht beleid, niet simpelweg om het opvoeren van de uitgaven. De data liegen niet — en de grafiek laat precies zien waarom nuance essentieel is als we echt werk willen maken van het verkleinen van ongelijkheid.\""
   ]
  },
  {
   "cell_type": "code",
   "execution_count": 25,
   "id": "2cb175b2",
   "metadata": {},
   "outputs": [
    {
     "data": {
      "text/html": [
       "<div>            <script src=\"https://cdnjs.cloudflare.com/ajax/libs/mathjax/2.7.5/MathJax.js?config=TeX-AMS-MML_SVG\"></script><script type=\"text/javascript\">if (window.MathJax && window.MathJax.Hub && window.MathJax.Hub.Config) {window.MathJax.Hub.Config({SVG: {font: \"STIX-Web\"}});}</script>                    <div id=\"b7107720-693f-41a1-831c-bd306eeb4fd3\" class=\"plotly-graph-div\" style=\"height:525px; width:100%;\"></div>            <script type=\"text/javascript\">                window.PLOTLYENV=window.PLOTLYENV || {};                                if (document.getElementById(\"b7107720-693f-41a1-831c-bd306eeb4fd3\")) {                    Plotly.newPlot(                        \"b7107720-693f-41a1-831c-bd306eeb4fd3\",                        [{\"customdata\":{\"dtype\":\"f8\",\"bdata\":\"55jwxgKt4T8jy1AQTEHfP2DXIGOAf94\\u002f\",\"shape\":\"3, 1\"},\"hovertemplate\":\"Sociaal vangnet variabele=%{x}\\u003cbr\\u003eCorrelatie met inkomensongelijkheid=%{marker.color:.2f}\\u003cextra\\u003e\\u003c\\u002fextra\\u003e\",\"legendgroup\":\"\",\"marker\":{\"color\":{\"dtype\":\"f8\",\"bdata\":\"55jwxgKt4b8jy1AQTEHfv2DXIGOAf96\\u002f\"},\"coloraxis\":\"coloraxis\",\"size\":{\"dtype\":\"f8\",\"bdata\":\"55jwxgKt4T8jy1AQTEHfP2DXIGOAf94\\u002f\"},\"sizemode\":\"area\",\"sizeref\":0.0003452309301819572,\"symbol\":\"circle\"},\"mode\":\"markers\",\"name\":\"\",\"orientation\":\"v\",\"showlegend\":false,\"x\":[\"Arbeidsongeschiktheidsuitkeringen (per hoofd)\",\"Werkverlof (per hoofd)\",\"Gezinsuitgaven (per hoofd)\"],\"xaxis\":\"x\",\"y\":{\"dtype\":\"f8\",\"bdata\":\"55jwxgKt4b8jy1AQTEHfv2DXIGOAf96\\u002f\"},\"yaxis\":\"y\",\"type\":\"scatter\"}],                        {\"template\":{\"data\":{\"histogram2dcontour\":[{\"type\":\"histogram2dcontour\",\"colorbar\":{\"outlinewidth\":0,\"ticks\":\"\"},\"colorscale\":[[0.0,\"#0d0887\"],[0.1111111111111111,\"#46039f\"],[0.2222222222222222,\"#7201a8\"],[0.3333333333333333,\"#9c179e\"],[0.4444444444444444,\"#bd3786\"],[0.5555555555555556,\"#d8576b\"],[0.6666666666666666,\"#ed7953\"],[0.7777777777777778,\"#fb9f3a\"],[0.8888888888888888,\"#fdca26\"],[1.0,\"#f0f921\"]]}],\"choropleth\":[{\"type\":\"choropleth\",\"colorbar\":{\"outlinewidth\":0,\"ticks\":\"\"}}],\"histogram2d\":[{\"type\":\"histogram2d\",\"colorbar\":{\"outlinewidth\":0,\"ticks\":\"\"},\"colorscale\":[[0.0,\"#0d0887\"],[0.1111111111111111,\"#46039f\"],[0.2222222222222222,\"#7201a8\"],[0.3333333333333333,\"#9c179e\"],[0.4444444444444444,\"#bd3786\"],[0.5555555555555556,\"#d8576b\"],[0.6666666666666666,\"#ed7953\"],[0.7777777777777778,\"#fb9f3a\"],[0.8888888888888888,\"#fdca26\"],[1.0,\"#f0f921\"]]}],\"heatmap\":[{\"type\":\"heatmap\",\"colorbar\":{\"outlinewidth\":0,\"ticks\":\"\"},\"colorscale\":[[0.0,\"#0d0887\"],[0.1111111111111111,\"#46039f\"],[0.2222222222222222,\"#7201a8\"],[0.3333333333333333,\"#9c179e\"],[0.4444444444444444,\"#bd3786\"],[0.5555555555555556,\"#d8576b\"],[0.6666666666666666,\"#ed7953\"],[0.7777777777777778,\"#fb9f3a\"],[0.8888888888888888,\"#fdca26\"],[1.0,\"#f0f921\"]]}],\"contourcarpet\":[{\"type\":\"contourcarpet\",\"colorbar\":{\"outlinewidth\":0,\"ticks\":\"\"}}],\"contour\":[{\"type\":\"contour\",\"colorbar\":{\"outlinewidth\":0,\"ticks\":\"\"},\"colorscale\":[[0.0,\"#0d0887\"],[0.1111111111111111,\"#46039f\"],[0.2222222222222222,\"#7201a8\"],[0.3333333333333333,\"#9c179e\"],[0.4444444444444444,\"#bd3786\"],[0.5555555555555556,\"#d8576b\"],[0.6666666666666666,\"#ed7953\"],[0.7777777777777778,\"#fb9f3a\"],[0.8888888888888888,\"#fdca26\"],[1.0,\"#f0f921\"]]}],\"surface\":[{\"type\":\"surface\",\"colorbar\":{\"outlinewidth\":0,\"ticks\":\"\"},\"colorscale\":[[0.0,\"#0d0887\"],[0.1111111111111111,\"#46039f\"],[0.2222222222222222,\"#7201a8\"],[0.3333333333333333,\"#9c179e\"],[0.4444444444444444,\"#bd3786\"],[0.5555555555555556,\"#d8576b\"],[0.6666666666666666,\"#ed7953\"],[0.7777777777777778,\"#fb9f3a\"],[0.8888888888888888,\"#fdca26\"],[1.0,\"#f0f921\"]]}],\"mesh3d\":[{\"type\":\"mesh3d\",\"colorbar\":{\"outlinewidth\":0,\"ticks\":\"\"}}],\"scatter\":[{\"fillpattern\":{\"fillmode\":\"overlay\",\"size\":10,\"solidity\":0.2},\"type\":\"scatter\"}],\"parcoords\":[{\"type\":\"parcoords\",\"line\":{\"colorbar\":{\"outlinewidth\":0,\"ticks\":\"\"}}}],\"scatterpolargl\":[{\"type\":\"scatterpolargl\",\"marker\":{\"colorbar\":{\"outlinewidth\":0,\"ticks\":\"\"}}}],\"bar\":[{\"error_x\":{\"color\":\"#2a3f5f\"},\"error_y\":{\"color\":\"#2a3f5f\"},\"marker\":{\"line\":{\"color\":\"#E5ECF6\",\"width\":0.5},\"pattern\":{\"fillmode\":\"overlay\",\"size\":10,\"solidity\":0.2}},\"type\":\"bar\"}],\"scattergeo\":[{\"type\":\"scattergeo\",\"marker\":{\"colorbar\":{\"outlinewidth\":0,\"ticks\":\"\"}}}],\"scatterpolar\":[{\"type\":\"scatterpolar\",\"marker\":{\"colorbar\":{\"outlinewidth\":0,\"ticks\":\"\"}}}],\"histogram\":[{\"marker\":{\"pattern\":{\"fillmode\":\"overlay\",\"size\":10,\"solidity\":0.2}},\"type\":\"histogram\"}],\"scattergl\":[{\"type\":\"scattergl\",\"marker\":{\"colorbar\":{\"outlinewidth\":0,\"ticks\":\"\"}}}],\"scatter3d\":[{\"type\":\"scatter3d\",\"line\":{\"colorbar\":{\"outlinewidth\":0,\"ticks\":\"\"}},\"marker\":{\"colorbar\":{\"outlinewidth\":0,\"ticks\":\"\"}}}],\"scattermap\":[{\"type\":\"scattermap\",\"marker\":{\"colorbar\":{\"outlinewidth\":0,\"ticks\":\"\"}}}],\"scattermapbox\":[{\"type\":\"scattermapbox\",\"marker\":{\"colorbar\":{\"outlinewidth\":0,\"ticks\":\"\"}}}],\"scatterternary\":[{\"type\":\"scatterternary\",\"marker\":{\"colorbar\":{\"outlinewidth\":0,\"ticks\":\"\"}}}],\"scattercarpet\":[{\"type\":\"scattercarpet\",\"marker\":{\"colorbar\":{\"outlinewidth\":0,\"ticks\":\"\"}}}],\"carpet\":[{\"aaxis\":{\"endlinecolor\":\"#2a3f5f\",\"gridcolor\":\"white\",\"linecolor\":\"white\",\"minorgridcolor\":\"white\",\"startlinecolor\":\"#2a3f5f\"},\"baxis\":{\"endlinecolor\":\"#2a3f5f\",\"gridcolor\":\"white\",\"linecolor\":\"white\",\"minorgridcolor\":\"white\",\"startlinecolor\":\"#2a3f5f\"},\"type\":\"carpet\"}],\"table\":[{\"cells\":{\"fill\":{\"color\":\"#EBF0F8\"},\"line\":{\"color\":\"white\"}},\"header\":{\"fill\":{\"color\":\"#C8D4E3\"},\"line\":{\"color\":\"white\"}},\"type\":\"table\"}],\"barpolar\":[{\"marker\":{\"line\":{\"color\":\"#E5ECF6\",\"width\":0.5},\"pattern\":{\"fillmode\":\"overlay\",\"size\":10,\"solidity\":0.2}},\"type\":\"barpolar\"}],\"pie\":[{\"automargin\":true,\"type\":\"pie\"}]},\"layout\":{\"autotypenumbers\":\"strict\",\"colorway\":[\"#636efa\",\"#EF553B\",\"#00cc96\",\"#ab63fa\",\"#FFA15A\",\"#19d3f3\",\"#FF6692\",\"#B6E880\",\"#FF97FF\",\"#FECB52\"],\"font\":{\"color\":\"#2a3f5f\"},\"hovermode\":\"closest\",\"hoverlabel\":{\"align\":\"left\"},\"paper_bgcolor\":\"white\",\"plot_bgcolor\":\"#E5ECF6\",\"polar\":{\"bgcolor\":\"#E5ECF6\",\"angularaxis\":{\"gridcolor\":\"white\",\"linecolor\":\"white\",\"ticks\":\"\"},\"radialaxis\":{\"gridcolor\":\"white\",\"linecolor\":\"white\",\"ticks\":\"\"}},\"ternary\":{\"bgcolor\":\"#E5ECF6\",\"aaxis\":{\"gridcolor\":\"white\",\"linecolor\":\"white\",\"ticks\":\"\"},\"baxis\":{\"gridcolor\":\"white\",\"linecolor\":\"white\",\"ticks\":\"\"},\"caxis\":{\"gridcolor\":\"white\",\"linecolor\":\"white\",\"ticks\":\"\"}},\"coloraxis\":{\"colorbar\":{\"outlinewidth\":0,\"ticks\":\"\"}},\"colorscale\":{\"sequential\":[[0.0,\"#0d0887\"],[0.1111111111111111,\"#46039f\"],[0.2222222222222222,\"#7201a8\"],[0.3333333333333333,\"#9c179e\"],[0.4444444444444444,\"#bd3786\"],[0.5555555555555556,\"#d8576b\"],[0.6666666666666666,\"#ed7953\"],[0.7777777777777778,\"#fb9f3a\"],[0.8888888888888888,\"#fdca26\"],[1.0,\"#f0f921\"]],\"sequentialminus\":[[0.0,\"#0d0887\"],[0.1111111111111111,\"#46039f\"],[0.2222222222222222,\"#7201a8\"],[0.3333333333333333,\"#9c179e\"],[0.4444444444444444,\"#bd3786\"],[0.5555555555555556,\"#d8576b\"],[0.6666666666666666,\"#ed7953\"],[0.7777777777777778,\"#fb9f3a\"],[0.8888888888888888,\"#fdca26\"],[1.0,\"#f0f921\"]],\"diverging\":[[0,\"#8e0152\"],[0.1,\"#c51b7d\"],[0.2,\"#de77ae\"],[0.3,\"#f1b6da\"],[0.4,\"#fde0ef\"],[0.5,\"#f7f7f7\"],[0.6,\"#e6f5d0\"],[0.7,\"#b8e186\"],[0.8,\"#7fbc41\"],[0.9,\"#4d9221\"],[1,\"#276419\"]]},\"xaxis\":{\"gridcolor\":\"white\",\"linecolor\":\"white\",\"ticks\":\"\",\"title\":{\"standoff\":15},\"zerolinecolor\":\"white\",\"automargin\":true,\"zerolinewidth\":2},\"yaxis\":{\"gridcolor\":\"white\",\"linecolor\":\"white\",\"ticks\":\"\",\"title\":{\"standoff\":15},\"zerolinecolor\":\"white\",\"automargin\":true,\"zerolinewidth\":2},\"scene\":{\"xaxis\":{\"backgroundcolor\":\"#E5ECF6\",\"gridcolor\":\"white\",\"linecolor\":\"white\",\"showbackground\":true,\"ticks\":\"\",\"zerolinecolor\":\"white\",\"gridwidth\":2},\"yaxis\":{\"backgroundcolor\":\"#E5ECF6\",\"gridcolor\":\"white\",\"linecolor\":\"white\",\"showbackground\":true,\"ticks\":\"\",\"zerolinecolor\":\"white\",\"gridwidth\":2},\"zaxis\":{\"backgroundcolor\":\"#E5ECF6\",\"gridcolor\":\"white\",\"linecolor\":\"white\",\"showbackground\":true,\"ticks\":\"\",\"zerolinecolor\":\"white\",\"gridwidth\":2}},\"shapedefaults\":{\"line\":{\"color\":\"#2a3f5f\"}},\"annotationdefaults\":{\"arrowcolor\":\"#2a3f5f\",\"arrowhead\":0,\"arrowwidth\":1},\"geo\":{\"bgcolor\":\"white\",\"landcolor\":\"#E5ECF6\",\"subunitcolor\":\"white\",\"showland\":true,\"showlakes\":true,\"lakecolor\":\"white\"},\"title\":{\"x\":0.05},\"mapbox\":{\"style\":\"light\"}}},\"xaxis\":{\"anchor\":\"y\",\"domain\":[0.0,1.0],\"title\":{\"text\":\"\"}},\"yaxis\":{\"anchor\":\"x\",\"domain\":[0.0,1.0],\"title\":{\"text\":\"Pearson correlatieco\\u00ebffici\\u00ebnt\"}},\"coloraxis\":{\"colorbar\":{\"title\":{\"text\":\"Correlatie met inkomensongelijkheid\"}},\"colorscale\":[[0.0,\"rgb(103,0,31)\"],[0.1,\"rgb(178,24,43)\"],[0.2,\"rgb(214,96,77)\"],[0.3,\"rgb(244,165,130)\"],[0.4,\"rgb(253,219,199)\"],[0.5,\"rgb(247,247,247)\"],[0.6,\"rgb(209,229,240)\"],[0.7,\"rgb(146,197,222)\"],[0.8,\"rgb(67,147,195)\"],[0.9,\"rgb(33,102,172)\"],[1.0,\"rgb(5,48,97)\"]],\"cmin\":-1,\"cmax\":1},\"legend\":{\"tracegroupgap\":0,\"itemsizing\":\"constant\"},\"margin\":{\"t\":60},\"title\":{\"text\":\"Top 3 sterkste correlaties sociaal vangnet \\u00d7 inkomensongelijkheid\"},\"plot_bgcolor\":\"white\"},                        {\"responsive\": true}                    ).then(function(){\n",
       "                            \n",
       "var gd = document.getElementById('b7107720-693f-41a1-831c-bd306eeb4fd3');\n",
       "var x = new MutationObserver(function (mutations, observer) {{\n",
       "        var display = window.getComputedStyle(gd).display;\n",
       "        if (!display || display === 'none') {{\n",
       "            console.log([gd, 'removed!']);\n",
       "            Plotly.purge(gd);\n",
       "            observer.disconnect();\n",
       "        }}\n",
       "}});\n",
       "\n",
       "// Listen for the removal of the full notebook cells\n",
       "var notebookContainer = gd.closest('#notebook-container');\n",
       "if (notebookContainer) {{\n",
       "    x.observe(notebookContainer, {childList: true});\n",
       "}}\n",
       "\n",
       "// Listen for the clearing of the current output cell\n",
       "var outputEl = gd.closest('.output');\n",
       "if (outputEl) {{\n",
       "    x.observe(outputEl, {childList: true});\n",
       "}}\n",
       "\n",
       "                        })                };            </script>        </div>"
      ]
     },
     "metadata": {},
     "output_type": "display_data"
    }
   ],
   "source": [
    "import plotly.express as px\n",
    "\n",
    "# Top 3 variabelen op basis van absolute correlatie\n",
    "top3_df = corr_df.copy()\n",
    "top3_df[\"abs_corr\"] = top3_df[\"Pearson r\"].abs()\n",
    "top3_df = top3_df.sort_values(\"abs_corr\", ascending=False).head(3)\n",
    "\n",
    "# Bubble plot maken\n",
    "fig = px.scatter(\n",
    "    top3_df,\n",
    "    x=\"Naam\",\n",
    "    y=\"Pearson r\",\n",
    "    size=\"abs_corr\",\n",
    "    color=\"Pearson r\",\n",
    "    color_continuous_scale=\"RdBu\",\n",
    "    range_color=[-1, 1],\n",
    "    size_max=40,\n",
    "    labels={\"Naam\": \"Sociaal vangnet variabele\", \"Pearson r\": \"Correlatie met inkomensongelijkheid\"},\n",
    "    hover_data={\"Pearson r\": \":.2f\", \"abs_corr\": False}\n",
    ")\n",
    "\n",
    "fig.update_layout(\n",
    "    title=\"Top 3 sterkste correlaties sociaal vangnet × inkomensongelijkheid\",\n",
    "    yaxis_title=\"Pearson correlatiecoëfficiënt\",\n",
    "    xaxis_title=\"\",\n",
    "    plot_bgcolor=\"white\"\n",
    ")\n",
    "\n",
    "fig.show()\n"
   ]
  },
  {
   "cell_type": "markdown",
   "id": "8470cb18",
   "metadata": {},
   "source": [
    "Argumentatieve toelichting bij de Bubble Plot\n",
    "\"Een veelgehoord uitgangspunt in het beleidsdebat is dat alle vormen van sociale uitgaven hetzelfde effect hebben op inkomensongelijkheid. Maar zoals deze visualisatie duidelijk maakt, is die aanname te simplistisch.\n",
    "\n",
    "In deze bubble plot staan de drie sociaal vangnet-variabelen die de sterkste statistische samenhang vertonen met inkomensongelijkheid, gemeten via de postfiscale Gini-coëfficiënt. De y-as toont de hoogte én richting van de correlatie: positief of negatief. Hoe verder een bubbel van de nul af staat, hoe sterker het verband. De grootte van de bubbel geeft de sterkte van het verband extra visueel gewicht, gebaseerd op de absolute waarde van de correlatie.\n",
    "\n",
    "Wat deze visualisatie onderscheidt, is het gebruik van betekenisvolle symbolen die direct verwijzen naar de inhoud van de variabelen. Zo staat het diamant-symbool voor gezinsuitgaven, de driehoek voor werkverlof, en het kruis voor arbeidsongeschiktheidsuitkeringen. Hierdoor is in één oogopslag duidelijk met welk beleidsdomein we te maken hebben, zonder dat de kijker technisch onderlegd hoeft te zijn.\n",
    "\n",
    "Wat zien we?\n",
    "Sommige vormen van sociale uitgaven, zoals bijvoorbeeld gezinsgerelateerde steun, laten een negatieve correlatie zien met inkomensongelijkheid. Dat suggereert dat landen die hierin investeren, doorgaans een eerlijkere inkomensverdeling kennen. Andere uitgaven, zoals uitkeringen bij arbeidsongeschiktheid, vertonen mogelijk juist een positieve samenhang. Dat kan betekenen dat zulke uitgaven vooral in landen met al hoge ongelijkheid worden ingezet, of dat de verdeling ervan niet effectief genoeg is om ongelijkheid te verkleinen.\n",
    "\n",
    "Kortom, de grafiek laat zien dat niet álle sociale uitgaven hetzelfde effect hebben op ongelijkheid. Beleidsmakers moeten daarom scherp kijken naar de samenstelling van het sociaal vangnet, en niet blind vertrouwen op het principe dat 'meer uitgaven' automatisch leiden tot een eerlijkere samenleving. Gerichte, inhoudelijk onderbouwde keuzes maken het verschil — precies wat deze visualisatie inzichtelijk maakt.\"\n",
    "\n"
   ]
  }
 ],
 "metadata": {
  "kernelspec": {
   "display_name": "Python 3",
   "language": "python",
   "name": "python3"
  },
  "language_info": {
   "codemirror_mode": {
    "name": "ipython",
    "version": 3
   },
   "file_extension": ".py",
   "mimetype": "text/x-python",
   "name": "python",
   "nbconvert_exporter": "python",
   "pygments_lexer": "ipython3",
   "version": "3.10.18"
  }
 },
 "nbformat": 4,
 "nbformat_minor": 5
}