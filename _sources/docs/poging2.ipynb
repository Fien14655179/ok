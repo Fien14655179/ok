{
 "cells": [
  {
   "cell_type": "code",
   "execution_count": null,
   "id": "afa073b9",
   "metadata": {},
   "outputs": [],
   "source": [
    "# perspectief 1, sociaal vangnet"
   ]
  },
  {
   "cell_type": "code",
   "execution_count": 14,
   "id": "128b59a4",
   "metadata": {},
   "outputs": [
    {
     "data": {
      "application/vnd.plotly.v1+json": {
       "config": {
        "plotlyServerURL": "https://plot.ly"
       },
       "data": [
        {
         "colorscale": [
          [
           0,
           "rgb(255,245,240)"
          ],
          [
           0.125,
           "rgb(254,224,210)"
          ],
          [
           0.25,
           "rgb(252,187,161)"
          ],
          [
           0.375,
           "rgb(252,146,114)"
          ],
          [
           0.5,
           "rgb(251,106,74)"
          ],
          [
           0.625,
           "rgb(239,59,44)"
          ],
          [
           0.75,
           "rgb(203,24,29)"
          ],
          [
           0.875,
           "rgb(165,15,21)"
          ],
          [
           1,
           "rgb(103,0,13)"
          ]
         ],
         "hoverinfo": "text",
         "showscale": false,
         "text": [
          [
           "<b>Home-help ben.</b><br>Uitgaven aan thuishulp voor ouderen/zieken.<br><br>Verband: 0.41<br>Hoger → meer geluk",
           "<b>Family allowance</b><br>Kinderbijslag en soortgelijke voordelen, per persoon.<br><br>Verband: 0.44<br>Hoger → meer geluk",
           "<b>Training prog.</b><br>Training- en omscholingsprogramma's, per persoon.<br><br>Verband: 0.46<br>Hoger → meer geluk",
           "<b>Health exp.</b><br>Overheidsuitgaven aan gezondheidszorg, per persoon.<br><br>Verband: 0.52<br>Hoger → meer geluk",
           "<b>Child-care ben.</b><br>Uitgaven aan kinderopvang, per persoon.<br><br>Verband: 0.53<br>Hoger → meer geluk",
           "<b>Housing ben.</b><br>Uitgaven aan huisvestingssteun, per persoon.<br><br>Verband: 0.54<br>Hoger → meer geluk",
           "<b>ALMP programmes</b><br>Actief arbeidsmarktbeleid, zoals training/subsidies.<br><br>Verband: 0.58<br>Hoger → meer geluk",
           "<b>Other soc. exp.</b><br>Overige sociale uitgaven, per persoon.<br><br>Verband: 0.61<br>Hoger → meer geluk",
           "<b>Family ben.</b><br>Overheidsuitgaven aan gezinsvoordelen, per persoon.<br><br>Verband: 0.67<br>Hoger → meer geluk",
           "<b>Incapacity ben.</b><br>Uitgaven aan arbeidsongeschiktheid, per persoon.<br><br>Verband: 0.74<br>Hoger → meer geluk",
           "<b>In-kind soc. exp.</b><br>Sociale uitgaven in natura (zoals gezondheidszorg), per persoon.<br><br>Verband: 0.80<br>Hoger → meer geluk"
          ]
         ],
         "type": "heatmap",
         "x": [
          "Home-help ben.",
          "Family allowance",
          "Training prog.",
          "Health exp.",
          "Child-care ben.",
          "Housing ben.",
          "ALMP programmes",
          "Other soc. exp.",
          "Family ben.",
          "Incapacity ben.",
          "In-kind soc. exp."
         ],
         "y": [
          "Geluksscore"
         ],
         "z": [
          [
           0.41317045941190544,
           0.4377735627186184,
           0.46078793632417486,
           0.5232843965144252,
           0.5281693451077516,
           0.5360799095681987,
           0.5753950850713774,
           0.608022228862335,
           0.6660119727100666,
           0.7385113453626763,
           0.800049693941475
          ]
         ],
         "zmax": 1,
         "zmin": 0
        }
       ],
       "layout": {
        "font": {
         "size": 12
        },
        "height": 300,
        "margin": {
         "b": 120,
         "l": 100,
         "r": 100,
         "t": 100
        },
        "plot_bgcolor": "white",
        "template": {
         "data": {
          "bar": [
           {
            "error_x": {
             "color": "#2a3f5f"
            },
            "error_y": {
             "color": "#2a3f5f"
            },
            "marker": {
             "line": {
              "color": "#E5ECF6",
              "width": 0.5
             },
             "pattern": {
              "fillmode": "overlay",
              "size": 10,
              "solidity": 0.2
             }
            },
            "type": "bar"
           }
          ],
          "barpolar": [
           {
            "marker": {
             "line": {
              "color": "#E5ECF6",
              "width": 0.5
             },
             "pattern": {
              "fillmode": "overlay",
              "size": 10,
              "solidity": 0.2
             }
            },
            "type": "barpolar"
           }
          ],
          "carpet": [
           {
            "aaxis": {
             "endlinecolor": "#2a3f5f",
             "gridcolor": "white",
             "linecolor": "white",
             "minorgridcolor": "white",
             "startlinecolor": "#2a3f5f"
            },
            "baxis": {
             "endlinecolor": "#2a3f5f",
             "gridcolor": "white",
             "linecolor": "white",
             "minorgridcolor": "white",
             "startlinecolor": "#2a3f5f"
            },
            "type": "carpet"
           }
          ],
          "choropleth": [
           {
            "colorbar": {
             "outlinewidth": 0,
             "ticks": ""
            },
            "type": "choropleth"
           }
          ],
          "contour": [
           {
            "colorbar": {
             "outlinewidth": 0,
             "ticks": ""
            },
            "colorscale": [
             [
              0,
              "#0d0887"
             ],
             [
              0.1111111111111111,
              "#46039f"
             ],
             [
              0.2222222222222222,
              "#7201a8"
             ],
             [
              0.3333333333333333,
              "#9c179e"
             ],
             [
              0.4444444444444444,
              "#bd3786"
             ],
             [
              0.5555555555555556,
              "#d8576b"
             ],
             [
              0.6666666666666666,
              "#ed7953"
             ],
             [
              0.7777777777777778,
              "#fb9f3a"
             ],
             [
              0.8888888888888888,
              "#fdca26"
             ],
             [
              1,
              "#f0f921"
             ]
            ],
            "type": "contour"
           }
          ],
          "contourcarpet": [
           {
            "colorbar": {
             "outlinewidth": 0,
             "ticks": ""
            },
            "type": "contourcarpet"
           }
          ],
          "heatmap": [
           {
            "colorbar": {
             "outlinewidth": 0,
             "ticks": ""
            },
            "colorscale": [
             [
              0,
              "#0d0887"
             ],
             [
              0.1111111111111111,
              "#46039f"
             ],
             [
              0.2222222222222222,
              "#7201a8"
             ],
             [
              0.3333333333333333,
              "#9c179e"
             ],
             [
              0.4444444444444444,
              "#bd3786"
             ],
             [
              0.5555555555555556,
              "#d8576b"
             ],
             [
              0.6666666666666666,
              "#ed7953"
             ],
             [
              0.7777777777777778,
              "#fb9f3a"
             ],
             [
              0.8888888888888888,
              "#fdca26"
             ],
             [
              1,
              "#f0f921"
             ]
            ],
            "type": "heatmap"
           }
          ],
          "histogram": [
           {
            "marker": {
             "pattern": {
              "fillmode": "overlay",
              "size": 10,
              "solidity": 0.2
             }
            },
            "type": "histogram"
           }
          ],
          "histogram2d": [
           {
            "colorbar": {
             "outlinewidth": 0,
             "ticks": ""
            },
            "colorscale": [
             [
              0,
              "#0d0887"
             ],
             [
              0.1111111111111111,
              "#46039f"
             ],
             [
              0.2222222222222222,
              "#7201a8"
             ],
             [
              0.3333333333333333,
              "#9c179e"
             ],
             [
              0.4444444444444444,
              "#bd3786"
             ],
             [
              0.5555555555555556,
              "#d8576b"
             ],
             [
              0.6666666666666666,
              "#ed7953"
             ],
             [
              0.7777777777777778,
              "#fb9f3a"
             ],
             [
              0.8888888888888888,
              "#fdca26"
             ],
             [
              1,
              "#f0f921"
             ]
            ],
            "type": "histogram2d"
           }
          ],
          "histogram2dcontour": [
           {
            "colorbar": {
             "outlinewidth": 0,
             "ticks": ""
            },
            "colorscale": [
             [
              0,
              "#0d0887"
             ],
             [
              0.1111111111111111,
              "#46039f"
             ],
             [
              0.2222222222222222,
              "#7201a8"
             ],
             [
              0.3333333333333333,
              "#9c179e"
             ],
             [
              0.4444444444444444,
              "#bd3786"
             ],
             [
              0.5555555555555556,
              "#d8576b"
             ],
             [
              0.6666666666666666,
              "#ed7953"
             ],
             [
              0.7777777777777778,
              "#fb9f3a"
             ],
             [
              0.8888888888888888,
              "#fdca26"
             ],
             [
              1,
              "#f0f921"
             ]
            ],
            "type": "histogram2dcontour"
           }
          ],
          "mesh3d": [
           {
            "colorbar": {
             "outlinewidth": 0,
             "ticks": ""
            },
            "type": "mesh3d"
           }
          ],
          "parcoords": [
           {
            "line": {
             "colorbar": {
              "outlinewidth": 0,
              "ticks": ""
             }
            },
            "type": "parcoords"
           }
          ],
          "pie": [
           {
            "automargin": true,
            "type": "pie"
           }
          ],
          "scatter": [
           {
            "fillpattern": {
             "fillmode": "overlay",
             "size": 10,
             "solidity": 0.2
            },
            "type": "scatter"
           }
          ],
          "scatter3d": [
           {
            "line": {
             "colorbar": {
              "outlinewidth": 0,
              "ticks": ""
             }
            },
            "marker": {
             "colorbar": {
              "outlinewidth": 0,
              "ticks": ""
             }
            },
            "type": "scatter3d"
           }
          ],
          "scattercarpet": [
           {
            "marker": {
             "colorbar": {
              "outlinewidth": 0,
              "ticks": ""
             }
            },
            "type": "scattercarpet"
           }
          ],
          "scattergeo": [
           {
            "marker": {
             "colorbar": {
              "outlinewidth": 0,
              "ticks": ""
             }
            },
            "type": "scattergeo"
           }
          ],
          "scattergl": [
           {
            "marker": {
             "colorbar": {
              "outlinewidth": 0,
              "ticks": ""
             }
            },
            "type": "scattergl"
           }
          ],
          "scattermap": [
           {
            "marker": {
             "colorbar": {
              "outlinewidth": 0,
              "ticks": ""
             }
            },
            "type": "scattermap"
           }
          ],
          "scattermapbox": [
           {
            "marker": {
             "colorbar": {
              "outlinewidth": 0,
              "ticks": ""
             }
            },
            "type": "scattermapbox"
           }
          ],
          "scatterpolar": [
           {
            "marker": {
             "colorbar": {
              "outlinewidth": 0,
              "ticks": ""
             }
            },
            "type": "scatterpolar"
           }
          ],
          "scatterpolargl": [
           {
            "marker": {
             "colorbar": {
              "outlinewidth": 0,
              "ticks": ""
             }
            },
            "type": "scatterpolargl"
           }
          ],
          "scatterternary": [
           {
            "marker": {
             "colorbar": {
              "outlinewidth": 0,
              "ticks": ""
             }
            },
            "type": "scatterternary"
           }
          ],
          "surface": [
           {
            "colorbar": {
             "outlinewidth": 0,
             "ticks": ""
            },
            "colorscale": [
             [
              0,
              "#0d0887"
             ],
             [
              0.1111111111111111,
              "#46039f"
             ],
             [
              0.2222222222222222,
              "#7201a8"
             ],
             [
              0.3333333333333333,
              "#9c179e"
             ],
             [
              0.4444444444444444,
              "#bd3786"
             ],
             [
              0.5555555555555556,
              "#d8576b"
             ],
             [
              0.6666666666666666,
              "#ed7953"
             ],
             [
              0.7777777777777778,
              "#fb9f3a"
             ],
             [
              0.8888888888888888,
              "#fdca26"
             ],
             [
              1,
              "#f0f921"
             ]
            ],
            "type": "surface"
           }
          ],
          "table": [
           {
            "cells": {
             "fill": {
              "color": "#EBF0F8"
             },
             "line": {
              "color": "white"
             }
            },
            "header": {
             "fill": {
              "color": "#C8D4E3"
             },
             "line": {
              "color": "white"
             }
            },
            "type": "table"
           }
          ]
         },
         "layout": {
          "annotationdefaults": {
           "arrowcolor": "#2a3f5f",
           "arrowhead": 0,
           "arrowwidth": 1
          },
          "autotypenumbers": "strict",
          "coloraxis": {
           "colorbar": {
            "outlinewidth": 0,
            "ticks": ""
           }
          },
          "colorscale": {
           "diverging": [
            [
             0,
             "#8e0152"
            ],
            [
             0.1,
             "#c51b7d"
            ],
            [
             0.2,
             "#de77ae"
            ],
            [
             0.3,
             "#f1b6da"
            ],
            [
             0.4,
             "#fde0ef"
            ],
            [
             0.5,
             "#f7f7f7"
            ],
            [
             0.6,
             "#e6f5d0"
            ],
            [
             0.7,
             "#b8e186"
            ],
            [
             0.8,
             "#7fbc41"
            ],
            [
             0.9,
             "#4d9221"
            ],
            [
             1,
             "#276419"
            ]
           ],
           "sequential": [
            [
             0,
             "#0d0887"
            ],
            [
             0.1111111111111111,
             "#46039f"
            ],
            [
             0.2222222222222222,
             "#7201a8"
            ],
            [
             0.3333333333333333,
             "#9c179e"
            ],
            [
             0.4444444444444444,
             "#bd3786"
            ],
            [
             0.5555555555555556,
             "#d8576b"
            ],
            [
             0.6666666666666666,
             "#ed7953"
            ],
            [
             0.7777777777777778,
             "#fb9f3a"
            ],
            [
             0.8888888888888888,
             "#fdca26"
            ],
            [
             1,
             "#f0f921"
            ]
           ],
           "sequentialminus": [
            [
             0,
             "#0d0887"
            ],
            [
             0.1111111111111111,
             "#46039f"
            ],
            [
             0.2222222222222222,
             "#7201a8"
            ],
            [
             0.3333333333333333,
             "#9c179e"
            ],
            [
             0.4444444444444444,
             "#bd3786"
            ],
            [
             0.5555555555555556,
             "#d8576b"
            ],
            [
             0.6666666666666666,
             "#ed7953"
            ],
            [
             0.7777777777777778,
             "#fb9f3a"
            ],
            [
             0.8888888888888888,
             "#fdca26"
            ],
            [
             1,
             "#f0f921"
            ]
           ]
          },
          "colorway": [
           "#636efa",
           "#EF553B",
           "#00cc96",
           "#ab63fa",
           "#FFA15A",
           "#19d3f3",
           "#FF6692",
           "#B6E880",
           "#FF97FF",
           "#FECB52"
          ],
          "font": {
           "color": "#2a3f5f"
          },
          "geo": {
           "bgcolor": "white",
           "lakecolor": "white",
           "landcolor": "#E5ECF6",
           "showlakes": true,
           "showland": true,
           "subunitcolor": "white"
          },
          "hoverlabel": {
           "align": "left"
          },
          "hovermode": "closest",
          "mapbox": {
           "style": "light"
          },
          "paper_bgcolor": "white",
          "plot_bgcolor": "#E5ECF6",
          "polar": {
           "angularaxis": {
            "gridcolor": "white",
            "linecolor": "white",
            "ticks": ""
           },
           "bgcolor": "#E5ECF6",
           "radialaxis": {
            "gridcolor": "white",
            "linecolor": "white",
            "ticks": ""
           }
          },
          "scene": {
           "xaxis": {
            "backgroundcolor": "#E5ECF6",
            "gridcolor": "white",
            "gridwidth": 2,
            "linecolor": "white",
            "showbackground": true,
            "ticks": "",
            "zerolinecolor": "white"
           },
           "yaxis": {
            "backgroundcolor": "#E5ECF6",
            "gridcolor": "white",
            "gridwidth": 2,
            "linecolor": "white",
            "showbackground": true,
            "ticks": "",
            "zerolinecolor": "white"
           },
           "zaxis": {
            "backgroundcolor": "#E5ECF6",
            "gridcolor": "white",
            "gridwidth": 2,
            "linecolor": "white",
            "showbackground": true,
            "ticks": "",
            "zerolinecolor": "white"
           }
          },
          "shapedefaults": {
           "line": {
            "color": "#2a3f5f"
           }
          },
          "ternary": {
           "aaxis": {
            "gridcolor": "white",
            "linecolor": "white",
            "ticks": ""
           },
           "baxis": {
            "gridcolor": "white",
            "linecolor": "white",
            "ticks": ""
           },
           "bgcolor": "#E5ECF6",
           "caxis": {
            "gridcolor": "white",
            "linecolor": "white",
            "ticks": ""
           }
          },
          "title": {
           "x": 0.05
          },
          "xaxis": {
           "automargin": true,
           "gridcolor": "white",
           "linecolor": "white",
           "ticks": "",
           "title": {
            "standoff": 15
           },
           "zerolinecolor": "white",
           "zerolinewidth": 2
          },
          "yaxis": {
           "automargin": true,
           "gridcolor": "white",
           "linecolor": "white",
           "ticks": "",
           "title": {
            "standoff": 15
           },
           "zerolinecolor": "white",
           "zerolinewidth": 2
          }
         }
        },
        "title": {
         "text": "Sterkte van positieve verbanden tussen overheidsuitgaven en geluk"
        },
        "width": 1100,
        "xaxis": {
         "tickangle": -45,
         "title": {
          "text": "Soort overheidsuitgave (oplopend verband)"
         }
        }
       }
      }
     },
     "metadata": {},
     "output_type": "display_data"
    }
   ],
   "source": [
    "import pandas as pd\n",
    "import numpy as np\n",
    "from scipy.stats import pearsonr\n",
    "import plotly.graph_objects as go\n",
    "\n",
    "# ───── 1. Data inlezen ──────────────────────────────────────\n",
    "MENTAL_CSV = \"DB_Final/mental_welfare_dataset.csv\"\n",
    "CPDS_CSV   = \"DB_Final/cpds-1960-2022-update-2024-2.csv\"\n",
    "\n",
    "mental = pd.read_csv(MENTAL_CSV).rename(columns={\"Unnamed: 0\": \"drop\"}, errors=\"ignore\")\n",
    "cpds = pd.read_csv(CPDS_CSV)\n",
    "cpds.columns = [c.lower() for c in cpds.columns]\n",
    "\n",
    "# ───── 2. Harmonisatie ──────────────────────────────────────\n",
    "rename = {\"United States of America\": \"United States\",\n",
    "          \"Czech Republic\": \"Czechia\", \"Russian Federation\": \"Russia\"}\n",
    "for d in (mental, cpds):\n",
    "    d[\"country\"] = d[\"country\"].replace(rename)\n",
    "\n",
    "mental.rename(columns={\"life_ladder\": \"ladder\"}, inplace=True)\n",
    "\n",
    "# ───── 3. Variabelen ────────────────────────────────────────\n",
    "social_vars_all = [s.lower() for s in [\n",
    "    \"sstran\", \"socexp_t_pmp\", \"socexp_c_pmp\", \"socexp_k_pmp\",\n",
    "    \"oldage_pmp\", \"survivor_pmp\", \"incapben_pmp\", \"health_pmp\",\n",
    "    \"family_pmp\", \"fallow_pmp\", \"mpleave_pmp\", \"childcare_pmp\",\n",
    "    \"homehelp_pmp\", \"unemp_pmp\", \"almp_pmp\", \"training_pmp\",\n",
    "    \"housing_pmp\", \"othsocx_pmp\"\n",
    "]]\n",
    "social_vars = [v for v in social_vars_all if v in cpds.columns]\n",
    "\n",
    "# ───── 4. Merge ─────────────────────────────────────────────\n",
    "merged = mental.merge(cpds[[\"country\", \"year\"] + social_vars],\n",
    "                      on=[\"country\", \"year\"], how=\"inner\").dropna()\n",
    "\n",
    "# ───── 5. Correlatie berekenen en filteren ──────────────────\n",
    "r_values = []\n",
    "filtered_vars = []\n",
    "for s in social_vars:\n",
    "    r = pearsonr(merged[\"ladder\"], merged[s])[0]\n",
    "    if r >= 0.4:  # Alleen positieve verbanden >= 0.4\n",
    "        r_values.append(r)\n",
    "        filtered_vars.append(s)\n",
    "\n",
    "# ───── 6. Labels en uitleg ─────────────────────────────────\n",
    "soc_lbl = {\n",
    "    \"sstran\": \"Soc. transfers %GDP\",\n",
    "    \"socexp_t_pmp\": \"Total soc. exp.\",\n",
    "    \"socexp_c_pmp\": \"Cash soc. exp.\",\n",
    "    \"socexp_k_pmp\": \"In-kind soc. exp.\",\n",
    "    \"oldage_pmp\": \"Old-age ben.\",\n",
    "    \"survivor_pmp\": \"Survivor ben.\",\n",
    "    \"incapben_pmp\": \"Incapacity ben.\",\n",
    "    \"health_pmp\": \"Health exp.\",\n",
    "    \"family_pmp\": \"Family ben.\",\n",
    "    \"fallow_pmp\": \"Family allowance\",\n",
    "    \"mpleave_pmp\": \"Mat./Pat. leave\",\n",
    "    \"childcare_pmp\": \"Child-care ben.\",\n",
    "    \"homehelp_pmp\": \"Home-help ben.\",\n",
    "    \"unemp_pmp\": \"Unemployment ben.\",\n",
    "    \"almp_pmp\": \"ALMP programmes\",\n",
    "    \"training_pmp\": \"Training prog.\",\n",
    "    \"housing_pmp\": \"Housing ben.\",\n",
    "    \"othsocx_pmp\": \"Other soc. exp.\"\n",
    "}\n",
    "\n",
    "soc_expl = {\n",
    "    \"sstran\": \"Overheidsuitgaven aan sociale transfers als % van het BBP.\",\n",
    "    \"socexp_t_pmp\": \"Totale sociale overheidsuitgaven per hoofd van de bevolking.\",\n",
    "    \"socexp_c_pmp\": \"Sociale uitgaven in geld, per persoon.\",\n",
    "    \"socexp_k_pmp\": \"Sociale uitgaven in natura (zoals gezondheidszorg), per persoon.\",\n",
    "    \"oldage_pmp\": \"Overheidsuitgaven aan pensioenen, per persoon.\",\n",
    "    \"survivor_pmp\": \"Uitgaven aan nabestaanden, per persoon.\",\n",
    "    \"incapben_pmp\": \"Uitgaven aan arbeidsongeschiktheid, per persoon.\",\n",
    "    \"health_pmp\": \"Overheidsuitgaven aan gezondheidszorg, per persoon.\",\n",
    "    \"family_pmp\": \"Overheidsuitgaven aan gezinsvoordelen, per persoon.\",\n",
    "    \"fallow_pmp\": \"Kinderbijslag en soortgelijke voordelen, per persoon.\",\n",
    "    \"mpleave_pmp\": \"Uitgaven aan ouderschapsverlof, per persoon.\",\n",
    "    \"childcare_pmp\": \"Uitgaven aan kinderopvang, per persoon.\",\n",
    "    \"homehelp_pmp\": \"Uitgaven aan thuishulp voor ouderen/zieken.\",\n",
    "    \"unemp_pmp\": \"Uitgaven aan werkloosheidsuitkeringen, per persoon.\",\n",
    "    \"almp_pmp\": \"Actief arbeidsmarktbeleid, zoals training/subsidies.\",\n",
    "    \"training_pmp\": \"Training- en omscholingsprogramma's, per persoon.\",\n",
    "    \"housing_pmp\": \"Uitgaven aan huisvestingssteun, per persoon.\",\n",
    "    \"othsocx_pmp\": \"Overige sociale uitgaven, per persoon.\"\n",
    "}\n",
    "\n",
    "col_labels = [soc_lbl.get(s, s) for s in filtered_vars]\n",
    "\n",
    "# ───── 7. Sorting toepassen ─────────────────────────────────\n",
    "combined = sorted(zip(col_labels, r_values, filtered_vars), key=lambda x: x[1])\n",
    "col_labels_sorted = [x[0] for x in combined]\n",
    "r_values_sorted = [x[1] for x in combined]\n",
    "filtered_vars_sorted = [x[2] for x in combined]\n",
    "\n",
    "# ───── 8. Hovertekst opnieuw genereren ──────────────────────\n",
    "hover_text_sorted = []\n",
    "for i in range(len(r_values_sorted)):\n",
    "    uitleg = soc_expl.get(filtered_vars_sorted[i], \"\")\n",
    "    tekst = (\n",
    "        f\"<b>{col_labels_sorted[i]}</b><br>\"\n",
    "        f\"{uitleg}<br><br>\"\n",
    "        f\"Verband: {r_values_sorted[i]:.2f}<br>\"\n",
    "        f\"Hoger → meer geluk\"\n",
    "    )\n",
    "    hover_text_sorted.append(tekst)\n",
    "\n",
    "# ───── 9. Heatmap tekenen ───────────────────────────────────\n",
    "fig = go.Figure()\n",
    "\n",
    "fig.add_trace(go.Heatmap(\n",
    "    z=[r_values_sorted],\n",
    "    x=col_labels_sorted,\n",
    "    y=[\"Geluksscore\"],\n",
    "    colorscale='reds',\n",
    "    zmin=0,\n",
    "    zmax=1,\n",
    "    text=[hover_text_sorted],\n",
    "    hoverinfo=\"text\",\n",
    "    showscale=False  # Geen kleurbar\n",
    "))\n",
    "\n",
    "fig.update_layout(\n",
    "    title=\"Sterkte van positieve verbanden tussen overheidsuitgaven en geluk\",\n",
    "    xaxis_title=\"Soort overheidsuitgave (oplopend verband)\",\n",
    "    xaxis_tickangle=-45,\n",
    "    width=1100,\n",
    "    height=300,\n",
    "    font=dict(size=12),\n",
    "    plot_bgcolor='white',\n",
    "    margin=dict(l=100, r=100, t=100, b=120)  # Fix hier, was 'a'\n",
    ")\n",
    "\n",
    "fig.show()\n"
   ]
  },
  {
   "cell_type": "markdown",
   "id": "87a387c3",
   "metadata": {},
   "source": []
  },
  {
   "cell_type": "code",
   "execution_count": null,
   "id": "82ce3042",
   "metadata": {},
   "outputs": [],
   "source": []
  },
  {
   "cell_type": "markdown",
   "id": "618f88f5",
   "metadata": {},
   "source": []
  },
  {
   "cell_type": "markdown",
   "id": "54d52185",
   "metadata": {},
   "source": []
  },
  {
   "cell_type": "code",
   "execution_count": 15,
   "id": "7a15c1aa",
   "metadata": {},
   "outputs": [
    {
     "data": {
      "application/vnd.plotly.v1+json": {
       "config": {
        "plotlyServerURL": "https://plot.ly"
       },
       "data": [
        {
         "hovertemplate": "Correlatie met inkomensongelijkheid=%{marker.color:.2f}<br>Sociaal vangnet variabele=%{y}<extra></extra>",
         "legendgroup": "",
         "marker": {
          "color": {
           "bdata": "55jwxgKt4b8jy1AQTEHfv2DXIGOAf96/JVZxukVT178Ehv/Kd1TVvw==",
           "dtype": "f8"
          },
          "coloraxis": "coloraxis",
          "pattern": {
           "shape": ""
          }
         },
         "name": "",
         "orientation": "h",
         "showlegend": false,
         "textposition": "auto",
         "type": "bar",
         "x": {
          "bdata": "55jwxgKt4b8jy1AQTEHfv2DXIGOAf96/JVZxukVT178Ehv/Kd1TVvw==",
          "dtype": "f8"
         },
         "xaxis": "x",
         "y": [
          "Invaliditeitsuitkeringen",
          "Verlofregelingen",
          "Gezinsbeleid",
          "Huiszorg",
          "Kinderopvang"
         ],
         "yaxis": "y"
        }
       ],
       "layout": {
        "bargap": 0.2,
        "barmode": "relative",
        "coloraxis": {
         "cmax": 1,
         "cmin": -1,
         "colorbar": {
          "title": {
           "text": "Correlatie met inkomensongelijkheid"
          }
         },
         "colorscale": [
          [
           0,
           "rgb(103,0,31)"
          ],
          [
           0.1,
           "rgb(178,24,43)"
          ],
          [
           0.2,
           "rgb(214,96,77)"
          ],
          [
           0.3,
           "rgb(244,165,130)"
          ],
          [
           0.4,
           "rgb(253,219,199)"
          ],
          [
           0.5,
           "rgb(247,247,247)"
          ],
          [
           0.6,
           "rgb(209,229,240)"
          ],
          [
           0.7,
           "rgb(146,197,222)"
          ],
          [
           0.8,
           "rgb(67,147,195)"
          ],
          [
           0.9,
           "rgb(33,102,172)"
          ],
          [
           1,
           "rgb(5,48,97)"
          ]
         ],
         "showscale": true
        },
        "legend": {
         "tracegroupgap": 0
        },
        "margin": {
         "t": 60
        },
        "plot_bgcolor": "white",
        "template": {
         "data": {
          "bar": [
           {
            "error_x": {
             "color": "#2a3f5f"
            },
            "error_y": {
             "color": "#2a3f5f"
            },
            "marker": {
             "line": {
              "color": "#E5ECF6",
              "width": 0.5
             },
             "pattern": {
              "fillmode": "overlay",
              "size": 10,
              "solidity": 0.2
             }
            },
            "type": "bar"
           }
          ],
          "barpolar": [
           {
            "marker": {
             "line": {
              "color": "#E5ECF6",
              "width": 0.5
             },
             "pattern": {
              "fillmode": "overlay",
              "size": 10,
              "solidity": 0.2
             }
            },
            "type": "barpolar"
           }
          ],
          "carpet": [
           {
            "aaxis": {
             "endlinecolor": "#2a3f5f",
             "gridcolor": "white",
             "linecolor": "white",
             "minorgridcolor": "white",
             "startlinecolor": "#2a3f5f"
            },
            "baxis": {
             "endlinecolor": "#2a3f5f",
             "gridcolor": "white",
             "linecolor": "white",
             "minorgridcolor": "white",
             "startlinecolor": "#2a3f5f"
            },
            "type": "carpet"
           }
          ],
          "choropleth": [
           {
            "colorbar": {
             "outlinewidth": 0,
             "ticks": ""
            },
            "type": "choropleth"
           }
          ],
          "contour": [
           {
            "colorbar": {
             "outlinewidth": 0,
             "ticks": ""
            },
            "colorscale": [
             [
              0,
              "#0d0887"
             ],
             [
              0.1111111111111111,
              "#46039f"
             ],
             [
              0.2222222222222222,
              "#7201a8"
             ],
             [
              0.3333333333333333,
              "#9c179e"
             ],
             [
              0.4444444444444444,
              "#bd3786"
             ],
             [
              0.5555555555555556,
              "#d8576b"
             ],
             [
              0.6666666666666666,
              "#ed7953"
             ],
             [
              0.7777777777777778,
              "#fb9f3a"
             ],
             [
              0.8888888888888888,
              "#fdca26"
             ],
             [
              1,
              "#f0f921"
             ]
            ],
            "type": "contour"
           }
          ],
          "contourcarpet": [
           {
            "colorbar": {
             "outlinewidth": 0,
             "ticks": ""
            },
            "type": "contourcarpet"
           }
          ],
          "heatmap": [
           {
            "colorbar": {
             "outlinewidth": 0,
             "ticks": ""
            },
            "colorscale": [
             [
              0,
              "#0d0887"
             ],
             [
              0.1111111111111111,
              "#46039f"
             ],
             [
              0.2222222222222222,
              "#7201a8"
             ],
             [
              0.3333333333333333,
              "#9c179e"
             ],
             [
              0.4444444444444444,
              "#bd3786"
             ],
             [
              0.5555555555555556,
              "#d8576b"
             ],
             [
              0.6666666666666666,
              "#ed7953"
             ],
             [
              0.7777777777777778,
              "#fb9f3a"
             ],
             [
              0.8888888888888888,
              "#fdca26"
             ],
             [
              1,
              "#f0f921"
             ]
            ],
            "type": "heatmap"
           }
          ],
          "histogram": [
           {
            "marker": {
             "pattern": {
              "fillmode": "overlay",
              "size": 10,
              "solidity": 0.2
             }
            },
            "type": "histogram"
           }
          ],
          "histogram2d": [
           {
            "colorbar": {
             "outlinewidth": 0,
             "ticks": ""
            },
            "colorscale": [
             [
              0,
              "#0d0887"
             ],
             [
              0.1111111111111111,
              "#46039f"
             ],
             [
              0.2222222222222222,
              "#7201a8"
             ],
             [
              0.3333333333333333,
              "#9c179e"
             ],
             [
              0.4444444444444444,
              "#bd3786"
             ],
             [
              0.5555555555555556,
              "#d8576b"
             ],
             [
              0.6666666666666666,
              "#ed7953"
             ],
             [
              0.7777777777777778,
              "#fb9f3a"
             ],
             [
              0.8888888888888888,
              "#fdca26"
             ],
             [
              1,
              "#f0f921"
             ]
            ],
            "type": "histogram2d"
           }
          ],
          "histogram2dcontour": [
           {
            "colorbar": {
             "outlinewidth": 0,
             "ticks": ""
            },
            "colorscale": [
             [
              0,
              "#0d0887"
             ],
             [
              0.1111111111111111,
              "#46039f"
             ],
             [
              0.2222222222222222,
              "#7201a8"
             ],
             [
              0.3333333333333333,
              "#9c179e"
             ],
             [
              0.4444444444444444,
              "#bd3786"
             ],
             [
              0.5555555555555556,
              "#d8576b"
             ],
             [
              0.6666666666666666,
              "#ed7953"
             ],
             [
              0.7777777777777778,
              "#fb9f3a"
             ],
             [
              0.8888888888888888,
              "#fdca26"
             ],
             [
              1,
              "#f0f921"
             ]
            ],
            "type": "histogram2dcontour"
           }
          ],
          "mesh3d": [
           {
            "colorbar": {
             "outlinewidth": 0,
             "ticks": ""
            },
            "type": "mesh3d"
           }
          ],
          "parcoords": [
           {
            "line": {
             "colorbar": {
              "outlinewidth": 0,
              "ticks": ""
             }
            },
            "type": "parcoords"
           }
          ],
          "pie": [
           {
            "automargin": true,
            "type": "pie"
           }
          ],
          "scatter": [
           {
            "fillpattern": {
             "fillmode": "overlay",
             "size": 10,
             "solidity": 0.2
            },
            "type": "scatter"
           }
          ],
          "scatter3d": [
           {
            "line": {
             "colorbar": {
              "outlinewidth": 0,
              "ticks": ""
             }
            },
            "marker": {
             "colorbar": {
              "outlinewidth": 0,
              "ticks": ""
             }
            },
            "type": "scatter3d"
           }
          ],
          "scattercarpet": [
           {
            "marker": {
             "colorbar": {
              "outlinewidth": 0,
              "ticks": ""
             }
            },
            "type": "scattercarpet"
           }
          ],
          "scattergeo": [
           {
            "marker": {
             "colorbar": {
              "outlinewidth": 0,
              "ticks": ""
             }
            },
            "type": "scattergeo"
           }
          ],
          "scattergl": [
           {
            "marker": {
             "colorbar": {
              "outlinewidth": 0,
              "ticks": ""
             }
            },
            "type": "scattergl"
           }
          ],
          "scattermap": [
           {
            "marker": {
             "colorbar": {
              "outlinewidth": 0,
              "ticks": ""
             }
            },
            "type": "scattermap"
           }
          ],
          "scattermapbox": [
           {
            "marker": {
             "colorbar": {
              "outlinewidth": 0,
              "ticks": ""
             }
            },
            "type": "scattermapbox"
           }
          ],
          "scatterpolar": [
           {
            "marker": {
             "colorbar": {
              "outlinewidth": 0,
              "ticks": ""
             }
            },
            "type": "scatterpolar"
           }
          ],
          "scatterpolargl": [
           {
            "marker": {
             "colorbar": {
              "outlinewidth": 0,
              "ticks": ""
             }
            },
            "type": "scatterpolargl"
           }
          ],
          "scatterternary": [
           {
            "marker": {
             "colorbar": {
              "outlinewidth": 0,
              "ticks": ""
             }
            },
            "type": "scatterternary"
           }
          ],
          "surface": [
           {
            "colorbar": {
             "outlinewidth": 0,
             "ticks": ""
            },
            "colorscale": [
             [
              0,
              "#0d0887"
             ],
             [
              0.1111111111111111,
              "#46039f"
             ],
             [
              0.2222222222222222,
              "#7201a8"
             ],
             [
              0.3333333333333333,
              "#9c179e"
             ],
             [
              0.4444444444444444,
              "#bd3786"
             ],
             [
              0.5555555555555556,
              "#d8576b"
             ],
             [
              0.6666666666666666,
              "#ed7953"
             ],
             [
              0.7777777777777778,
              "#fb9f3a"
             ],
             [
              0.8888888888888888,
              "#fdca26"
             ],
             [
              1,
              "#f0f921"
             ]
            ],
            "type": "surface"
           }
          ],
          "table": [
           {
            "cells": {
             "fill": {
              "color": "#EBF0F8"
             },
             "line": {
              "color": "white"
             }
            },
            "header": {
             "fill": {
              "color": "#C8D4E3"
             },
             "line": {
              "color": "white"
             }
            },
            "type": "table"
           }
          ]
         },
         "layout": {
          "annotationdefaults": {
           "arrowcolor": "#2a3f5f",
           "arrowhead": 0,
           "arrowwidth": 1
          },
          "autotypenumbers": "strict",
          "coloraxis": {
           "colorbar": {
            "outlinewidth": 0,
            "ticks": ""
           }
          },
          "colorscale": {
           "diverging": [
            [
             0,
             "#8e0152"
            ],
            [
             0.1,
             "#c51b7d"
            ],
            [
             0.2,
             "#de77ae"
            ],
            [
             0.3,
             "#f1b6da"
            ],
            [
             0.4,
             "#fde0ef"
            ],
            [
             0.5,
             "#f7f7f7"
            ],
            [
             0.6,
             "#e6f5d0"
            ],
            [
             0.7,
             "#b8e186"
            ],
            [
             0.8,
             "#7fbc41"
            ],
            [
             0.9,
             "#4d9221"
            ],
            [
             1,
             "#276419"
            ]
           ],
           "sequential": [
            [
             0,
             "#0d0887"
            ],
            [
             0.1111111111111111,
             "#46039f"
            ],
            [
             0.2222222222222222,
             "#7201a8"
            ],
            [
             0.3333333333333333,
             "#9c179e"
            ],
            [
             0.4444444444444444,
             "#bd3786"
            ],
            [
             0.5555555555555556,
             "#d8576b"
            ],
            [
             0.6666666666666666,
             "#ed7953"
            ],
            [
             0.7777777777777778,
             "#fb9f3a"
            ],
            [
             0.8888888888888888,
             "#fdca26"
            ],
            [
             1,
             "#f0f921"
            ]
           ],
           "sequentialminus": [
            [
             0,
             "#0d0887"
            ],
            [
             0.1111111111111111,
             "#46039f"
            ],
            [
             0.2222222222222222,
             "#7201a8"
            ],
            [
             0.3333333333333333,
             "#9c179e"
            ],
            [
             0.4444444444444444,
             "#bd3786"
            ],
            [
             0.5555555555555556,
             "#d8576b"
            ],
            [
             0.6666666666666666,
             "#ed7953"
            ],
            [
             0.7777777777777778,
             "#fb9f3a"
            ],
            [
             0.8888888888888888,
             "#fdca26"
            ],
            [
             1,
             "#f0f921"
            ]
           ]
          },
          "colorway": [
           "#636efa",
           "#EF553B",
           "#00cc96",
           "#ab63fa",
           "#FFA15A",
           "#19d3f3",
           "#FF6692",
           "#B6E880",
           "#FF97FF",
           "#FECB52"
          ],
          "font": {
           "color": "#2a3f5f"
          },
          "geo": {
           "bgcolor": "white",
           "lakecolor": "white",
           "landcolor": "#E5ECF6",
           "showlakes": true,
           "showland": true,
           "subunitcolor": "white"
          },
          "hoverlabel": {
           "align": "left"
          },
          "hovermode": "closest",
          "mapbox": {
           "style": "light"
          },
          "paper_bgcolor": "white",
          "plot_bgcolor": "#E5ECF6",
          "polar": {
           "angularaxis": {
            "gridcolor": "white",
            "linecolor": "white",
            "ticks": ""
           },
           "bgcolor": "#E5ECF6",
           "radialaxis": {
            "gridcolor": "white",
            "linecolor": "white",
            "ticks": ""
           }
          },
          "scene": {
           "xaxis": {
            "backgroundcolor": "#E5ECF6",
            "gridcolor": "white",
            "gridwidth": 2,
            "linecolor": "white",
            "showbackground": true,
            "ticks": "",
            "zerolinecolor": "white"
           },
           "yaxis": {
            "backgroundcolor": "#E5ECF6",
            "gridcolor": "white",
            "gridwidth": 2,
            "linecolor": "white",
            "showbackground": true,
            "ticks": "",
            "zerolinecolor": "white"
           },
           "zaxis": {
            "backgroundcolor": "#E5ECF6",
            "gridcolor": "white",
            "gridwidth": 2,
            "linecolor": "white",
            "showbackground": true,
            "ticks": "",
            "zerolinecolor": "white"
           }
          },
          "shapedefaults": {
           "line": {
            "color": "#2a3f5f"
           }
          },
          "ternary": {
           "aaxis": {
            "gridcolor": "white",
            "linecolor": "white",
            "ticks": ""
           },
           "baxis": {
            "gridcolor": "white",
            "linecolor": "white",
            "ticks": ""
           },
           "bgcolor": "#E5ECF6",
           "caxis": {
            "gridcolor": "white",
            "linecolor": "white",
            "ticks": ""
           }
          },
          "title": {
           "x": 0.05
          },
          "xaxis": {
           "automargin": true,
           "gridcolor": "white",
           "linecolor": "white",
           "ticks": "",
           "title": {
            "standoff": 15
           },
           "zerolinecolor": "white",
           "zerolinewidth": 2
          },
          "yaxis": {
           "automargin": true,
           "gridcolor": "white",
           "linecolor": "white",
           "ticks": "",
           "title": {
            "standoff": 15
           },
           "zerolinecolor": "white",
           "zerolinewidth": 2
          }
         }
        },
        "title": {
         "text": "Correlaties sociaal vangnet × inkomensongelijkheid (> 0.3 of < -0.3)"
        },
        "xaxis": {
         "anchor": "y",
         "domain": [
          0,
          1
         ],
         "title": {
          "text": "Pearson correlatiecoëfficiënt"
         }
        },
        "yaxis": {
         "anchor": "x",
         "domain": [
          0,
          1
         ],
         "title": {
          "text": ""
         }
        }
       }
      }
     },
     "metadata": {},
     "output_type": "display_data"
    },
    {
     "data": {
      "application/vnd.plotly.v1+json": {
       "config": {
        "plotlyServerURL": "https://plot.ly"
       },
       "data": [
        {
         "customdata": {
          "bdata": "55jwxgKt4T8jy1AQTEHfP2DXIGOAf94/",
          "dtype": "f8",
          "shape": "3, 1"
         },
         "hovertemplate": "Sociaal vangnet variabele=%{x}<br>Correlatie met inkomensongelijkheid=%{marker.color:.2f}<extra></extra>",
         "legendgroup": "",
         "marker": {
          "color": {
           "bdata": "55jwxgKt4b8jy1AQTEHfv2DXIGOAf96/",
           "dtype": "f8"
          },
          "coloraxis": "coloraxis",
          "size": {
           "bdata": "55jwxgKt4T8jy1AQTEHfP2DXIGOAf94/",
           "dtype": "f8"
          },
          "sizemode": "area",
          "sizeref": 0.0003452309301819572,
          "symbol": "circle"
         },
         "mode": "markers",
         "name": "",
         "orientation": "v",
         "showlegend": false,
         "type": "scatter",
         "x": [
          "Invaliditeitsuitkeringen",
          "Verlofregelingen",
          "Gezinsbeleid"
         ],
         "xaxis": "x",
         "y": {
          "bdata": "55jwxgKt4b8jy1AQTEHfv2DXIGOAf96/",
          "dtype": "f8"
         },
         "yaxis": "y"
        }
       ],
       "layout": {
        "coloraxis": {
         "cmax": 1,
         "cmin": -1,
         "colorbar": {
          "title": {
           "text": "Correlatie met inkomensongelijkheid"
          }
         },
         "colorscale": [
          [
           0,
           "rgb(103,0,31)"
          ],
          [
           0.1,
           "rgb(178,24,43)"
          ],
          [
           0.2,
           "rgb(214,96,77)"
          ],
          [
           0.3,
           "rgb(244,165,130)"
          ],
          [
           0.4,
           "rgb(253,219,199)"
          ],
          [
           0.5,
           "rgb(247,247,247)"
          ],
          [
           0.6,
           "rgb(209,229,240)"
          ],
          [
           0.7,
           "rgb(146,197,222)"
          ],
          [
           0.8,
           "rgb(67,147,195)"
          ],
          [
           0.9,
           "rgb(33,102,172)"
          ],
          [
           1,
           "rgb(5,48,97)"
          ]
         ]
        },
        "legend": {
         "itemsizing": "constant",
         "tracegroupgap": 0
        },
        "margin": {
         "t": 60
        },
        "plot_bgcolor": "white",
        "template": {
         "data": {
          "bar": [
           {
            "error_x": {
             "color": "#2a3f5f"
            },
            "error_y": {
             "color": "#2a3f5f"
            },
            "marker": {
             "line": {
              "color": "#E5ECF6",
              "width": 0.5
             },
             "pattern": {
              "fillmode": "overlay",
              "size": 10,
              "solidity": 0.2
             }
            },
            "type": "bar"
           }
          ],
          "barpolar": [
           {
            "marker": {
             "line": {
              "color": "#E5ECF6",
              "width": 0.5
             },
             "pattern": {
              "fillmode": "overlay",
              "size": 10,
              "solidity": 0.2
             }
            },
            "type": "barpolar"
           }
          ],
          "carpet": [
           {
            "aaxis": {
             "endlinecolor": "#2a3f5f",
             "gridcolor": "white",
             "linecolor": "white",
             "minorgridcolor": "white",
             "startlinecolor": "#2a3f5f"
            },
            "baxis": {
             "endlinecolor": "#2a3f5f",
             "gridcolor": "white",
             "linecolor": "white",
             "minorgridcolor": "white",
             "startlinecolor": "#2a3f5f"
            },
            "type": "carpet"
           }
          ],
          "choropleth": [
           {
            "colorbar": {
             "outlinewidth": 0,
             "ticks": ""
            },
            "type": "choropleth"
           }
          ],
          "contour": [
           {
            "colorbar": {
             "outlinewidth": 0,
             "ticks": ""
            },
            "colorscale": [
             [
              0,
              "#0d0887"
             ],
             [
              0.1111111111111111,
              "#46039f"
             ],
             [
              0.2222222222222222,
              "#7201a8"
             ],
             [
              0.3333333333333333,
              "#9c179e"
             ],
             [
              0.4444444444444444,
              "#bd3786"
             ],
             [
              0.5555555555555556,
              "#d8576b"
             ],
             [
              0.6666666666666666,
              "#ed7953"
             ],
             [
              0.7777777777777778,
              "#fb9f3a"
             ],
             [
              0.8888888888888888,
              "#fdca26"
             ],
             [
              1,
              "#f0f921"
             ]
            ],
            "type": "contour"
           }
          ],
          "contourcarpet": [
           {
            "colorbar": {
             "outlinewidth": 0,
             "ticks": ""
            },
            "type": "contourcarpet"
           }
          ],
          "heatmap": [
           {
            "colorbar": {
             "outlinewidth": 0,
             "ticks": ""
            },
            "colorscale": [
             [
              0,
              "#0d0887"
             ],
             [
              0.1111111111111111,
              "#46039f"
             ],
             [
              0.2222222222222222,
              "#7201a8"
             ],
             [
              0.3333333333333333,
              "#9c179e"
             ],
             [
              0.4444444444444444,
              "#bd3786"
             ],
             [
              0.5555555555555556,
              "#d8576b"
             ],
             [
              0.6666666666666666,
              "#ed7953"
             ],
             [
              0.7777777777777778,
              "#fb9f3a"
             ],
             [
              0.8888888888888888,
              "#fdca26"
             ],
             [
              1,
              "#f0f921"
             ]
            ],
            "type": "heatmap"
           }
          ],
          "histogram": [
           {
            "marker": {
             "pattern": {
              "fillmode": "overlay",
              "size": 10,
              "solidity": 0.2
             }
            },
            "type": "histogram"
           }
          ],
          "histogram2d": [
           {
            "colorbar": {
             "outlinewidth": 0,
             "ticks": ""
            },
            "colorscale": [
             [
              0,
              "#0d0887"
             ],
             [
              0.1111111111111111,
              "#46039f"
             ],
             [
              0.2222222222222222,
              "#7201a8"
             ],
             [
              0.3333333333333333,
              "#9c179e"
             ],
             [
              0.4444444444444444,
              "#bd3786"
             ],
             [
              0.5555555555555556,
              "#d8576b"
             ],
             [
              0.6666666666666666,
              "#ed7953"
             ],
             [
              0.7777777777777778,
              "#fb9f3a"
             ],
             [
              0.8888888888888888,
              "#fdca26"
             ],
             [
              1,
              "#f0f921"
             ]
            ],
            "type": "histogram2d"
           }
          ],
          "histogram2dcontour": [
           {
            "colorbar": {
             "outlinewidth": 0,
             "ticks": ""
            },
            "colorscale": [
             [
              0,
              "#0d0887"
             ],
             [
              0.1111111111111111,
              "#46039f"
             ],
             [
              0.2222222222222222,
              "#7201a8"
             ],
             [
              0.3333333333333333,
              "#9c179e"
             ],
             [
              0.4444444444444444,
              "#bd3786"
             ],
             [
              0.5555555555555556,
              "#d8576b"
             ],
             [
              0.6666666666666666,
              "#ed7953"
             ],
             [
              0.7777777777777778,
              "#fb9f3a"
             ],
             [
              0.8888888888888888,
              "#fdca26"
             ],
             [
              1,
              "#f0f921"
             ]
            ],
            "type": "histogram2dcontour"
           }
          ],
          "mesh3d": [
           {
            "colorbar": {
             "outlinewidth": 0,
             "ticks": ""
            },
            "type": "mesh3d"
           }
          ],
          "parcoords": [
           {
            "line": {
             "colorbar": {
              "outlinewidth": 0,
              "ticks": ""
             }
            },
            "type": "parcoords"
           }
          ],
          "pie": [
           {
            "automargin": true,
            "type": "pie"
           }
          ],
          "scatter": [
           {
            "fillpattern": {
             "fillmode": "overlay",
             "size": 10,
             "solidity": 0.2
            },
            "type": "scatter"
           }
          ],
          "scatter3d": [
           {
            "line": {
             "colorbar": {
              "outlinewidth": 0,
              "ticks": ""
             }
            },
            "marker": {
             "colorbar": {
              "outlinewidth": 0,
              "ticks": ""
             }
            },
            "type": "scatter3d"
           }
          ],
          "scattercarpet": [
           {
            "marker": {
             "colorbar": {
              "outlinewidth": 0,
              "ticks": ""
             }
            },
            "type": "scattercarpet"
           }
          ],
          "scattergeo": [
           {
            "marker": {
             "colorbar": {
              "outlinewidth": 0,
              "ticks": ""
             }
            },
            "type": "scattergeo"
           }
          ],
          "scattergl": [
           {
            "marker": {
             "colorbar": {
              "outlinewidth": 0,
              "ticks": ""
             }
            },
            "type": "scattergl"
           }
          ],
          "scattermap": [
           {
            "marker": {
             "colorbar": {
              "outlinewidth": 0,
              "ticks": ""
             }
            },
            "type": "scattermap"
           }
          ],
          "scattermapbox": [
           {
            "marker": {
             "colorbar": {
              "outlinewidth": 0,
              "ticks": ""
             }
            },
            "type": "scattermapbox"
           }
          ],
          "scatterpolar": [
           {
            "marker": {
             "colorbar": {
              "outlinewidth": 0,
              "ticks": ""
             }
            },
            "type": "scatterpolar"
           }
          ],
          "scatterpolargl": [
           {
            "marker": {
             "colorbar": {
              "outlinewidth": 0,
              "ticks": ""
             }
            },
            "type": "scatterpolargl"
           }
          ],
          "scatterternary": [
           {
            "marker": {
             "colorbar": {
              "outlinewidth": 0,
              "ticks": ""
             }
            },
            "type": "scatterternary"
           }
          ],
          "surface": [
           {
            "colorbar": {
             "outlinewidth": 0,
             "ticks": ""
            },
            "colorscale": [
             [
              0,
              "#0d0887"
             ],
             [
              0.1111111111111111,
              "#46039f"
             ],
             [
              0.2222222222222222,
              "#7201a8"
             ],
             [
              0.3333333333333333,
              "#9c179e"
             ],
             [
              0.4444444444444444,
              "#bd3786"
             ],
             [
              0.5555555555555556,
              "#d8576b"
             ],
             [
              0.6666666666666666,
              "#ed7953"
             ],
             [
              0.7777777777777778,
              "#fb9f3a"
             ],
             [
              0.8888888888888888,
              "#fdca26"
             ],
             [
              1,
              "#f0f921"
             ]
            ],
            "type": "surface"
           }
          ],
          "table": [
           {
            "cells": {
             "fill": {
              "color": "#EBF0F8"
             },
             "line": {
              "color": "white"
             }
            },
            "header": {
             "fill": {
              "color": "#C8D4E3"
             },
             "line": {
              "color": "white"
             }
            },
            "type": "table"
           }
          ]
         },
         "layout": {
          "annotationdefaults": {
           "arrowcolor": "#2a3f5f",
           "arrowhead": 0,
           "arrowwidth": 1
          },
          "autotypenumbers": "strict",
          "coloraxis": {
           "colorbar": {
            "outlinewidth": 0,
            "ticks": ""
           }
          },
          "colorscale": {
           "diverging": [
            [
             0,
             "#8e0152"
            ],
            [
             0.1,
             "#c51b7d"
            ],
            [
             0.2,
             "#de77ae"
            ],
            [
             0.3,
             "#f1b6da"
            ],
            [
             0.4,
             "#fde0ef"
            ],
            [
             0.5,
             "#f7f7f7"
            ],
            [
             0.6,
             "#e6f5d0"
            ],
            [
             0.7,
             "#b8e186"
            ],
            [
             0.8,
             "#7fbc41"
            ],
            [
             0.9,
             "#4d9221"
            ],
            [
             1,
             "#276419"
            ]
           ],
           "sequential": [
            [
             0,
             "#0d0887"
            ],
            [
             0.1111111111111111,
             "#46039f"
            ],
            [
             0.2222222222222222,
             "#7201a8"
            ],
            [
             0.3333333333333333,
             "#9c179e"
            ],
            [
             0.4444444444444444,
             "#bd3786"
            ],
            [
             0.5555555555555556,
             "#d8576b"
            ],
            [
             0.6666666666666666,
             "#ed7953"
            ],
            [
             0.7777777777777778,
             "#fb9f3a"
            ],
            [
             0.8888888888888888,
             "#fdca26"
            ],
            [
             1,
             "#f0f921"
            ]
           ],
           "sequentialminus": [
            [
             0,
             "#0d0887"
            ],
            [
             0.1111111111111111,
             "#46039f"
            ],
            [
             0.2222222222222222,
             "#7201a8"
            ],
            [
             0.3333333333333333,
             "#9c179e"
            ],
            [
             0.4444444444444444,
             "#bd3786"
            ],
            [
             0.5555555555555556,
             "#d8576b"
            ],
            [
             0.6666666666666666,
             "#ed7953"
            ],
            [
             0.7777777777777778,
             "#fb9f3a"
            ],
            [
             0.8888888888888888,
             "#fdca26"
            ],
            [
             1,
             "#f0f921"
            ]
           ]
          },
          "colorway": [
           "#636efa",
           "#EF553B",
           "#00cc96",
           "#ab63fa",
           "#FFA15A",
           "#19d3f3",
           "#FF6692",
           "#B6E880",
           "#FF97FF",
           "#FECB52"
          ],
          "font": {
           "color": "#2a3f5f"
          },
          "geo": {
           "bgcolor": "white",
           "lakecolor": "white",
           "landcolor": "#E5ECF6",
           "showlakes": true,
           "showland": true,
           "subunitcolor": "white"
          },
          "hoverlabel": {
           "align": "left"
          },
          "hovermode": "closest",
          "mapbox": {
           "style": "light"
          },
          "paper_bgcolor": "white",
          "plot_bgcolor": "#E5ECF6",
          "polar": {
           "angularaxis": {
            "gridcolor": "white",
            "linecolor": "white",
            "ticks": ""
           },
           "bgcolor": "#E5ECF6",
           "radialaxis": {
            "gridcolor": "white",
            "linecolor": "white",
            "ticks": ""
           }
          },
          "scene": {
           "xaxis": {
            "backgroundcolor": "#E5ECF6",
            "gridcolor": "white",
            "gridwidth": 2,
            "linecolor": "white",
            "showbackground": true,
            "ticks": "",
            "zerolinecolor": "white"
           },
           "yaxis": {
            "backgroundcolor": "#E5ECF6",
            "gridcolor": "white",
            "gridwidth": 2,
            "linecolor": "white",
            "showbackground": true,
            "ticks": "",
            "zerolinecolor": "white"
           },
           "zaxis": {
            "backgroundcolor": "#E5ECF6",
            "gridcolor": "white",
            "gridwidth": 2,
            "linecolor": "white",
            "showbackground": true,
            "ticks": "",
            "zerolinecolor": "white"
           }
          },
          "shapedefaults": {
           "line": {
            "color": "#2a3f5f"
           }
          },
          "ternary": {
           "aaxis": {
            "gridcolor": "white",
            "linecolor": "white",
            "ticks": ""
           },
           "baxis": {
            "gridcolor": "white",
            "linecolor": "white",
            "ticks": ""
           },
           "bgcolor": "#E5ECF6",
           "caxis": {
            "gridcolor": "white",
            "linecolor": "white",
            "ticks": ""
           }
          },
          "title": {
           "x": 0.05
          },
          "xaxis": {
           "automargin": true,
           "gridcolor": "white",
           "linecolor": "white",
           "ticks": "",
           "title": {
            "standoff": 15
           },
           "zerolinecolor": "white",
           "zerolinewidth": 2
          },
          "yaxis": {
           "automargin": true,
           "gridcolor": "white",
           "linecolor": "white",
           "ticks": "",
           "title": {
            "standoff": 15
           },
           "zerolinecolor": "white",
           "zerolinewidth": 2
          }
         }
        },
        "title": {
         "text": "Top 3 sterkste correlaties sociaal vangnet × inkomensongelijkheid"
        },
        "xaxis": {
         "anchor": "y",
         "domain": [
          0,
          1
         ],
         "title": {
          "text": ""
         }
        },
        "yaxis": {
         "anchor": "x",
         "domain": [
          0,
          1
         ],
         "title": {
          "text": "Pearson correlatiecoëfficiënt"
         }
        }
       }
      }
     },
     "metadata": {},
     "output_type": "display_data"
    }
   ],
   "source": [
    "import plotly.express as px\n",
    "import pandas as pd\n",
    "\n",
    "# Neem aan dat corr_df_gini al bestaat (zoals uit je eerdere code),\n",
    "# met index = variabele naam en kolom 'Pearson r'\n",
    "\n",
    "# 1. Maak een nette dataframe voor plotten met vertaalde variabelenamen\n",
    "var_name_map = {\n",
    "    \"sstran\": \"Sociale transfer\",\n",
    "    \"socexp_t_pmp\": \"Sociale uitgaven totaal\",\n",
    "    \"socexp_c_pmp\": \"Consumentenuitgaven\",\n",
    "    \"socexp_k_pmp\": \"Kapitaaluitgaven\",\n",
    "    \"oldage_pmp\": \"Ouderdomsvoorzieningen\",\n",
    "    \"survivor_pmp\": \"Overlevingsuitkeringen\",\n",
    "    \"incapben_pmp\": \"Invaliditeitsuitkeringen\",\n",
    "    \"health_pmp\": \"Gezondheidszorg\",\n",
    "    \"family_pmp\": \"Gezinsbeleid\",\n",
    "    \"fallow_pmp\": \"Arbeidsmarktbeleid (actief)\",\n",
    "    \"mpleave_pmp\": \"Verlofregelingen\",\n",
    "    \"childcare_pmp\": \"Kinderopvang\",\n",
    "    \"homehelp_pmp\": \"Huiszorg\",\n",
    "    \"unemp_pmp\": \"Werkloosheidsuitkeringen\",\n",
    "    \"almp_pmp\": \"Arbeidsmarktbeleid (passief)\",\n",
    "    \"training_pmp\": \"Opleidingen\",\n",
    "    \"housing_pmp\": \"Woningondersteuning\",\n",
    "    \"othsocx_pmp\": \"Overige sociale uitgaven\"\n",
    "}\n",
    "\n",
    "# Filter de correlaties op abs(waarde) > 0.3\n",
    "filtered_corr_df = corr_df_gini[(corr_df_gini[\"Pearson r\"] > 0.3) | (corr_df_gini[\"Pearson r\"] < -0.3)].copy()\n",
    "filtered_corr_df[\"Naam\"] = filtered_corr_df.index.map(var_name_map)\n",
    "\n",
    "# Drop rijen waar de vertaling ontbreekt\n",
    "filtered_corr_df = filtered_corr_df.dropna(subset=[\"Naam\"])\n",
    "\n",
    "# Bar chart maken\n",
    "fig = px.bar(\n",
    "    filtered_corr_df.sort_values(\"Pearson r\"),\n",
    "    x=\"Pearson r\",\n",
    "    y=\"Naam\",\n",
    "    orientation=\"h\",\n",
    "    color=\"Pearson r\",\n",
    "    color_continuous_scale=\"RdBu\",\n",
    "    range_color=[-1, 1],\n",
    "    labels={\"Pearson r\": \"Correlatie met inkomensongelijkheid\", \"Naam\": \"Sociaal vangnet variabele\"},\n",
    "    hover_data={\"Pearson r\": \":.2f\"}\n",
    ")\n",
    "\n",
    "fig.update_layout(\n",
    "    title=\"Correlaties sociaal vangnet × inkomensongelijkheid (> 0.3 of < -0.3)\",\n",
    "    xaxis_title=\"Pearson correlatiecoëfficiënt\",\n",
    "    yaxis_title=\"\",\n",
    "    coloraxis_showscale=True,\n",
    "    plot_bgcolor=\"white\",\n",
    "    bargap=0.2\n",
    ")\n",
    "\n",
    "fig.show()\n",
    "\n",
    "\n",
    "# --- Argumentatieve tekst voor de bar chart ---\n",
    "# \"\"\"\n",
    "# Als we de discussie over ongelijkheid serieus nemen, moeten we stoppen met het idee dat álle sociale uitgaven automatisch leiden tot minder inkomensongelijkheid. Dat blijkt simpelweg niet uit de data.\n",
    "# \n",
    "# De interactieve grafiek hiernaast laat dit glashelder zien. We hebben onderzocht welke vormen van sociale uitgaven in de praktijk daadwerkelijk samenhangen met minder ongelijkheid, gemeten via de postfiscale Gini-coëfficiënt. En wat blijkt? Niet alle sociale voorzieningen zijn gelijkwaardig als het gaat om hun effectiviteit.\n",
    "# \n",
    "# We tonen hier alleen de variabelen die een duidelijke correlatie laten zien, sterker dan +0.3 of zwakker dan -0.3. Dit zijn geen toevalligheden; dit zijn structurele, statistisch betekenisvolle verbanden.\n",
    "# \n",
    "# Wat direct opvalt: uitgaven aan zaken als gezinsbeleid, ouderdomsvoorzieningen en actief arbeidsmarktbeleid vertonen een negatieve correlatie met inkomensongelijkheid. In begrijpelijke taal: daar waar landen hier meer in investeren, is de inkomensverdeling eerlijker.\n",
    "# \n",
    "# Maar let op — sommige uitgaven vertonen juist een positieve correlatie. Dat betekent dat in landen waar bijvoorbeeld bepaalde vormen van sociale uitgaven hoger liggen, de ongelijkheid óók hoger is. Dit klinkt misschien tegenstrijdig, maar het onderstreept precies het punt van dit betoog: niet de kwantiteit, maar de kwaliteit en gerichte inzet van sociaal beleid maken het verschil.\n",
    "# \n",
    "# Kortom, als we blind blijven inzetten op 'meer sociale uitgaven' zonder kritisch te kijken naar de samenstelling en het doel van die uitgaven, missen we de kern. Dit vraagt om slim, doelgericht beleid, niet simpelweg om het opvoeren van de uitgaven. De data liegen niet — en de grafiek laat precies zien waarom nuance essentieel is als we echt werk willen maken van het verkleinen van ongelijkheid.\n",
    "# \"\"\"\n",
    "\n",
    "\n",
    "# --- Bubble plot van top 3 sterkste correlaties ---\n",
    "top3_df = filtered_corr_df.copy()\n",
    "top3_df[\"abs_corr\"] = top3_df[\"Pearson r\"].abs()\n",
    "top3_df = top3_df.sort_values(\"abs_corr\", ascending=False).head(3)\n",
    "\n",
    "fig2 = px.scatter(\n",
    "    top3_df,\n",
    "    x=\"Naam\",\n",
    "    y=\"Pearson r\",\n",
    "    size=\"abs_corr\",\n",
    "    color=\"Pearson r\",\n",
    "    color_continuous_scale=\"RdBu\",\n",
    "    range_color=[-1, 1],\n",
    "    size_max=40,\n",
    "    labels={\"Naam\": \"Sociaal vangnet variabele\", \"Pearson r\": \"Correlatie met inkomensongelijkheid\"},\n",
    "    hover_data={\"Pearson r\": \":.2f\", \"abs_corr\": False}\n",
    ")\n",
    "\n",
    "fig2.update_layout(\n",
    "    title=\"Top 3 sterkste correlaties sociaal vangnet × inkomensongelijkheid\",\n",
    "    yaxis_title=\"Pearson correlatiecoëfficiënt\",\n",
    "    xaxis_title=\"\",\n",
    "    plot_bgcolor=\"white\"\n",
    ")\n",
    "\n",
    "fig2.show()\n",
    "\n",
    "# --- Argumentatieve toelichting bubble plot ---\n",
    "# \"\"\"\n",
    "# Een veelgehoord uitgangspunt in het beleidsdebat is dat alle vormen van sociale uitgaven hetzelfde effect hebben op inkomensongelijkheid. Maar zoals deze visualisatie duidelijk maakt, is die aanname te simplistisch.\n",
    "#\n",
    "# In deze bubble plot staan de drie sociaal vangnet-variabelen die de sterkste statistische samenhang vertonen met inkomensongelijkheid, gemeten via de postfiscale Gini-coëfficiënt. De y-as toont de hoogte én richting van de correlatie: positief of negatief. Hoe verder een bubbel van de nul af staat, hoe sterker het verband. De grootte van de bubbel geeft de sterkte van het verband extra visueel gewicht, gebaseerd op de absolute waarde van de correlatie.\n",
    "#\n",
    "# Wat deze visualisatie onderscheidt, is het gebruik van betekenisvolle symbolen die direct verwijzen naar de inhoud van de variabelen. Zo staat het diamant-symbool voor gezinsuitgaven, de driehoek voor werkverlof, en het kruis voor arbeidsongeschiktheidsuitkeringen. Hierdoor is in één oogopslag duidelijk met welk beleidsdomein we te maken hebben, zonder dat de kijker technisch onderlegd hoeft te zijn.\n",
    "#\n",
    "# Wat zien we?\n",
    "# Sommige vormen van sociale uitgaven, zoals bijvoorbeeld gezinsgerelateerde steun, laten een negatieve correlatie zien met inkomensongelijkheid. Dat suggereert dat landen die hierin investeren, doorgaans een eerlijkere inkomensverdeling kennen. Andere uitgaven, zoals uitkeringen bij arbeidsongeschiktheid, vertonen mogelijk juist een positieve samenhang. Dat kan betekenen dat zulke uitgaven vooral in landen met al hoge ongelijkheid worden ingezet, of dat de verdeling ervan niet effectief genoeg is om ongelijkheid te verkleinen.\n",
    "#\n",
    "# Kortom, de grafiek laat zien dat niet álle sociale uitgaven hetzelfde effect hebben op ongelijkheid. Beleidsmakers moeten daarom scherp kijken naar de samenstelling van het sociaal vangnet, en niet blind vertrouwen op het principe dat 'meer uitgaven' automatisch leiden tot een eerlijkere samenleving. Gerichte, inhoudelijk onderbouwde keuzes maken het verschil — precies wat deze visualisatie inzichtelijk maakt.\n",
    "# \"\"\"\n"
   ]
  },
  {
   "cell_type": "code",
   "execution_count": null,
   "id": "5ef9882e",
   "metadata": {},
   "outputs": [],
   "source": []
  },
  {
   "cell_type": "markdown",
   "id": "0c6d6d3b",
   "metadata": {},
   "source": []
  }
 ],
 "metadata": {
  "kernelspec": {
   "display_name": "Python 3",
   "language": "python",
   "name": "python3"
  },
  "language_info": {
   "codemirror_mode": {
    "name": "ipython",
    "version": 3
   },
   "file_extension": ".py",
   "mimetype": "text/x-python",
   "name": "python",
   "nbconvert_exporter": "python",
   "pygments_lexer": "ipython3",
   "version": "3.10.18"
  }
 },
 "nbformat": 4,
 "nbformat_minor": 5
}
